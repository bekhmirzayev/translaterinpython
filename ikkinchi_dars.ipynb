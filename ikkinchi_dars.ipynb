{
  "nbformat": 4,
  "nbformat_minor": 0,
  "metadata": {
    "colab": {
      "provenance": [],
      "authorship_tag": "ABX9TyP0qaYbaI1ab4kCkxTxMd07",
      "include_colab_link": true
    },
    "kernelspec": {
      "name": "python3",
      "display_name": "Python 3"
    },
    "language_info": {
      "name": "python"
    }
  },
  "cells": [
    {
      "cell_type": "markdown",
      "metadata": {
        "id": "view-in-github",
        "colab_type": "text"
      },
      "source": [
        "<a href=\"https://colab.research.google.com/github/bekhmirzayev/translaterinpython/blob/main/ikkinchi_dars.ipynb\" target=\"_parent\"><img src=\"https://colab.research.google.com/assets/colab-badge.svg\" alt=\"Open In Colab\"/></a>"
      ]
    },
    {
      "cell_type": "markdown",
      "source": [
        "# Data Science va Sun'iy intellekt kursi\n",
        "Ma'lumotlar tahlili(Numpy kutubxonasi)"
      ],
      "metadata": {
        "id": "Vgt5wFve_EYO"
      }
    },
    {
      "cell_type": "markdown",
      "source": [
        "Numpy kutubxonasini chaqirib olish\n"
      ],
      "metadata": {
        "id": "fqmfjuXo_dJC"
      }
    },
    {
      "cell_type": "code",
      "execution_count": null,
      "metadata": {
        "id": "7ITNCXxi96ZO"
      },
      "outputs": [],
      "source": [
        "import numpy as np"
      ]
    },
    {
      "cell_type": "markdown",
      "source": [
        "Python list bilan Numpy kutubxonasidagi massivlar(arraylar) hisoblashlari orasidagi farqni ko'ramiz.\n"
      ],
      "metadata": {
        "id": "rU3liSvW_mm0"
      }
    },
    {
      "cell_type": "code",
      "source": [
        "my_list = list(range(100000)) #python list #normal"
      ],
      "metadata": {
        "id": "dIcVgPvY_x3a"
      },
      "execution_count": null,
      "outputs": []
    },
    {
      "cell_type": "code",
      "source": [
        "my_array = np.array(range(10000))  #numpy array(massivlar)  #vektor"
      ],
      "metadata": {
        "id": "l97v0Hyo_6Ds"
      },
      "execution_count": null,
      "outputs": []
    },
    {
      "cell_type": "code",
      "source": [
        "%time for _ in range(10):[x*2 for x in my_list]  # normal hisoblash 71.1 ms vaqt ketdi"
      ],
      "metadata": {
        "colab": {
          "base_uri": "https://localhost:8080/"
        },
        "id": "F2saltdOAN5C",
        "outputId": "2dc3110e-3324-45ce-f84c-c9c36233aee6"
      },
      "execution_count": null,
      "outputs": [
        {
          "output_type": "stream",
          "name": "stdout",
          "text": [
            "CPU times: user 62.3 ms, sys: 6.76 ms, total: 69.1 ms\n",
            "Wall time: 71.1 ms\n"
          ]
        }
      ]
    },
    {
      "cell_type": "code",
      "source": [
        "%time for _ in range(10): my_array*2  # vektorlashgan hisoblash 1.47 ms vaqt ketdi"
      ],
      "metadata": {
        "colab": {
          "base_uri": "https://localhost:8080/"
        },
        "id": "XIvXjdMiA1sG",
        "outputId": "80dbd89e-3ad2-4655-98ac-3ad071a33f0a"
      },
      "execution_count": null,
      "outputs": [
        {
          "output_type": "stream",
          "name": "stdout",
          "text": [
            "CPU times: user 1.42 ms, sys: 0 ns, total: 1.42 ms\n",
            "Wall time: 1.47 ms\n"
          ]
        }
      ]
    },
    {
      "cell_type": "code",
      "source": [
        "data1 = [4, 6.6, 9, 10, 2]\n",
        "arr1 = np.array(data1)\n",
        "\n",
        "data1\n",
        "arr1"
      ],
      "metadata": {
        "colab": {
          "base_uri": "https://localhost:8080/"
        },
        "id": "qEARdMUBBr1z",
        "outputId": "0db8a338-00d1-49ef-c151-f10e1d66f7dd"
      },
      "execution_count": null,
      "outputs": [
        {
          "output_type": "execute_result",
          "data": {
            "text/plain": [
              "array([ 4. ,  6.6,  9. , 10. ,  2. ])"
            ]
          },
          "metadata": {},
          "execution_count": 8
        }
      ]
    },
    {
      "cell_type": "code",
      "source": [
        "data2 = (34, 34, 5,12.9, 89)\n",
        "arr2 = np.array(data2)\n",
        "\n",
        "arr2\n"
      ],
      "metadata": {
        "colab": {
          "base_uri": "https://localhost:8080/"
        },
        "id": "fTo1WAvFF011",
        "outputId": "3543cdc4-4b55-46e7-829a-f08f56f4cfa9"
      },
      "execution_count": null,
      "outputs": [
        {
          "output_type": "execute_result",
          "data": {
            "text/plain": [
              "array([34. , 34. ,  5. , 12.9, 89. ])"
            ]
          },
          "metadata": {},
          "execution_count": 13
        }
      ]
    },
    {
      "cell_type": "code",
      "source": [
        "arr2.ndim"
      ],
      "metadata": {
        "colab": {
          "base_uri": "https://localhost:8080/"
        },
        "id": "vDlj_SmCGOEo",
        "outputId": "28f9e335-8071-4fea-ad6e-1c1d7a747690"
      },
      "execution_count": null,
      "outputs": [
        {
          "output_type": "execute_result",
          "data": {
            "text/plain": [
              "1"
            ]
          },
          "metadata": {},
          "execution_count": 15
        }
      ]
    },
    {
      "cell_type": "code",
      "source": [
        "data3 = [[[1, 2, 3], [4, 5, 6]], [[1, 2, 3], [4, 5, 6]]]\n",
        "arr3 = np.array(data3)"
      ],
      "metadata": {
        "id": "611rnHPYG4ol"
      },
      "execution_count": null,
      "outputs": []
    },
    {
      "cell_type": "code",
      "source": [
        "arr3"
      ],
      "metadata": {
        "colab": {
          "base_uri": "https://localhost:8080/"
        },
        "id": "s2Rdf95uKhtt",
        "outputId": "9f3707fb-5d5f-4149-8814-8474e2ca9e30"
      },
      "execution_count": null,
      "outputs": [
        {
          "output_type": "execute_result",
          "data": {
            "text/plain": [
              "array([[[1, 2, 3],\n",
              "        [4, 5, 6]],\n",
              "\n",
              "       [[1, 2, 3],\n",
              "        [4, 5, 6]]])"
            ]
          },
          "metadata": {},
          "execution_count": 37
        }
      ]
    },
    {
      "cell_type": "code",
      "source": [
        "arr3.shape"
      ],
      "metadata": {
        "colab": {
          "base_uri": "https://localhost:8080/"
        },
        "id": "8pxQg1GdJWe4",
        "outputId": "c58c875b-9db1-4981-e5d1-0a16fcc2c18e"
      },
      "execution_count": null,
      "outputs": [
        {
          "output_type": "execute_result",
          "data": {
            "text/plain": [
              "(2, 2, 3)"
            ]
          },
          "metadata": {},
          "execution_count": 39
        }
      ]
    },
    {
      "cell_type": "code",
      "source": [
        "arr3.size"
      ],
      "metadata": {
        "colab": {
          "base_uri": "https://localhost:8080/"
        },
        "id": "WWnXEivjK9Mr",
        "outputId": "f3981baf-1756-49cc-a8fd-a068eca7754d"
      },
      "execution_count": null,
      "outputs": [
        {
          "output_type": "execute_result",
          "data": {
            "text/plain": [
              "12"
            ]
          },
          "metadata": {},
          "execution_count": 40
        }
      ]
    },
    {
      "cell_type": "markdown",
      "source": [
        "N olchovli massivni yaratishning boshqa usullari"
      ],
      "metadata": {
        "id": "42faJBmYNYbZ"
      }
    },
    {
      "cell_type": "code",
      "source": [
        "arr4=np.zeros((2, 4))  # barcha elementlari 0 ga teng massivni yaratish\n",
        "arr4"
      ],
      "metadata": {
        "colab": {
          "base_uri": "https://localhost:8080/"
        },
        "id": "V2BHFYxUNc6K",
        "outputId": "b1763e29-a220-4d77-9996-a1078ccb01ec"
      },
      "execution_count": null,
      "outputs": [
        {
          "output_type": "execute_result",
          "data": {
            "text/plain": [
              "array([[0., 0., 0., 0.],\n",
              "       [0., 0., 0., 0.]])"
            ]
          },
          "metadata": {},
          "execution_count": 42
        }
      ]
    },
    {
      "cell_type": "code",
      "source": [
        "arr5 = np.ones((2, 4))  # barcha elementlari 1 ga teng massiv"
      ],
      "metadata": {
        "id": "02ReaINFNxup"
      },
      "execution_count": null,
      "outputs": []
    },
    {
      "cell_type": "code",
      "source": [
        "arr5"
      ],
      "metadata": {
        "colab": {
          "base_uri": "https://localhost:8080/"
        },
        "id": "krE3yZ-iOEmh",
        "outputId": "6d00f28e-481a-4c55-e630-2cbdc977f0a6"
      },
      "execution_count": null,
      "outputs": [
        {
          "output_type": "execute_result",
          "data": {
            "text/plain": [
              "array([[1., 1., 1., 1.],\n",
              "       [1., 1., 1., 1.]])"
            ]
          },
          "metadata": {},
          "execution_count": 44
        }
      ]
    },
    {
      "cell_type": "code",
      "source": [
        "arr6 = np.arange(4,20,2)   # 4 dan 20 gacha sonlarni 2 qadamdan chop qilib beruvchi\n",
        "arr6"
      ],
      "metadata": {
        "colab": {
          "base_uri": "https://localhost:8080/"
        },
        "id": "5YbiLfpFOFcs",
        "outputId": "1d4edb22-3e34-4a2f-f4a3-353bf3bf6e62"
      },
      "execution_count": null,
      "outputs": [
        {
          "output_type": "execute_result",
          "data": {
            "text/plain": [
              "array([ 4,  6,  8, 10, 12, 14, 16, 18])"
            ]
          },
          "metadata": {},
          "execution_count": 45
        }
      ]
    },
    {
      "cell_type": "code",
      "source": [
        "arr7=np.arange(20)  # 0 dan 20 gacha 1 qadamlik massiv qilib beradi\n",
        "arr7"
      ],
      "metadata": {
        "colab": {
          "base_uri": "https://localhost:8080/"
        },
        "id": "kAGRh0TIOVnc",
        "outputId": "061a2b02-3695-44d7-f3e1-b42ce36915ff"
      },
      "execution_count": null,
      "outputs": [
        {
          "output_type": "execute_result",
          "data": {
            "text/plain": [
              "array([ 0,  1,  2,  3,  4,  5,  6,  7,  8,  9, 10, 11, 12, 13, 14, 15, 16,\n",
              "       17, 18, 19])"
            ]
          },
          "metadata": {},
          "execution_count": 46
        }
      ]
    },
    {
      "cell_type": "code",
      "source": [
        "arr8=np.asarray(data3)\n",
        "arr8"
      ],
      "metadata": {
        "colab": {
          "base_uri": "https://localhost:8080/"
        },
        "id": "jVZVsjLxOwdE",
        "outputId": "d56bf88b-c847-47a5-fa8f-051684177bc0"
      },
      "execution_count": null,
      "outputs": [
        {
          "output_type": "execute_result",
          "data": {
            "text/plain": [
              "array([[[1, 2, 3],\n",
              "        [4, 5, 6]],\n",
              "\n",
              "       [[1, 2, 3],\n",
              "        [4, 5, 6]]])"
            ]
          },
          "metadata": {},
          "execution_count": 47
        }
      ]
    },
    {
      "cell_type": "code",
      "source": [],
      "metadata": {
        "id": "Weck6_RAUocj"
      },
      "execution_count": null,
      "outputs": []
    }
  ]
}